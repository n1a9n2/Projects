{
  "nbformat": 4,
  "nbformat_minor": 0,
  "metadata": {
    "colab": {
      "name": "Mini project 6",
      "provenance": [],
      "authorship_tag": "ABX9TyOtDNUJkkkaqJBwDbuFoaWp",
      "include_colab_link": true
    },
    "kernelspec": {
      "name": "python3",
      "display_name": "Python 3"
    },
    "language_info": {
      "name": "python"
    }
  },
  "cells": [
    {
      "cell_type": "markdown",
      "metadata": {
        "id": "view-in-github",
        "colab_type": "text"
      },
      "source": [
        "<a href=\"https://colab.research.google.com/github/n1a9n2/Projects/blob/main/Mini_project_6.ipynb\" target=\"_parent\"><img src=\"https://colab.research.google.com/assets/colab-badge.svg\" alt=\"Open In Colab\"/></a>"
      ]
    },
    {
      "cell_type": "markdown",
      "source": [
        "# **Coin Change Problem**"
      ],
      "metadata": {
        "id": "VXQyT240N-o3"
      }
    },
    {
      "cell_type": "markdown",
      "source": [
        "Problem Statement:\n",
        "\n",
        "There are coins of Rs 1, 5, 10 and 20. How many minimum number of coins are required to make Rs 1125.\n",
        "Constraints: Total number of coins must be multiple of 5."
      ],
      "metadata": {
        "id": "Pi95ivlgODNv"
      }
    },
    {
      "cell_type": "markdown",
      "source": [
        "Library inclusion"
      ],
      "metadata": {
        "id": "l7ZCwNWuOGvQ"
      }
    },
    {
      "cell_type": "code",
      "source": [
        "import random as r"
      ],
      "metadata": {
        "id": "FfTiiCXEOINB"
      },
      "execution_count": null,
      "outputs": []
    },
    {
      "cell_type": "markdown",
      "source": [
        "Parameter setting"
      ],
      "metadata": {
        "id": "qdKVmaVCOKqz"
      }
    },
    {
      "cell_type": "code",
      "source": [
        "#Parameter Setting\n",
        "CoinList    = [1, 5, 10, 20]  # Coin List\n",
        "Target      = 1125     # Target\n",
        "C           = 5        # Constraint\n",
        "ResultList  = set()    # Store Result List\n",
        "Iterations  = 10000    # Number of Inerations"
      ],
      "metadata": {
        "id": "KVUrpaGpON5l"
      },
      "execution_count": null,
      "outputs": []
    },
    {
      "cell_type": "markdown",
      "source": [
        "Single run"
      ],
      "metadata": {
        "id": "ExYjdJnSOPl8"
      }
    },
    {
      "cell_type": "code",
      "source": [
        "# Print CoinList\n",
        "print (\"Coin List     : \", CoinList)\n",
        "\n",
        "# Select count of coins\n",
        "CoinCount = [ 5 * r.randint(0,15) for j in range(len(CoinList))]\n",
        "print (\"Coin Count    : \", CoinCount)\n",
        "\n",
        "# Select number of elements from Set\n",
        "CoinCost = [ a * b for a,b in zip(CoinCount, CoinList)]\n",
        "print (\"Each Coin cost: \", CoinCost)\n",
        "\n",
        "# Sum the products in ColboList\n",
        "CoinSum = sum(CoinCost)\n",
        "print(\"Total Amount  : \", CoinSum)\n"
      ],
      "metadata": {
        "id": "ylM5ROGrORvq"
      },
      "execution_count": null,
      "outputs": []
    },
    {
      "cell_type": "markdown",
      "source": [
        "Start program"
      ],
      "metadata": {
        "id": "2NEv-uubOTt9"
      }
    },
    {
      "cell_type": "code",
      "source": [
        "# Loop till number of Iterations\n",
        "ResultList  = set()\n",
        "\n",
        "f=0\n",
        "for i in range(Iterations):\n",
        "\n",
        "    # Select count of coins\n",
        "    CoinCount = [ 5 * r.randint(0,15) for j in range(len(CoinList))]\n",
        "\n",
        "    # Select number of elements from Set\n",
        "    CoinCost = [ a * b for a,b in zip(CoinCount, CoinList)]\n",
        "\n",
        "    # Sum the products in ColboList\n",
        "    CoinSum = sum(CoinCost)\n",
        "    \n",
        "    if sum(CoinCost) == Target:\n",
        "      print (\"Coint Count: \", CoinCount, sum(CoinCount), sum(CoinCost))\n",
        "      ResultList.add(tuple(CoinCount))\n",
        "      f=1\n",
        "\n",
        "if f==0:\n",
        "  print(\"No Sequence found !!\")\n",
        "\n",
        "# Print total sets\n",
        "print (\"\\nTotal Sets: \", len(ResultList), \"\\n\")"
      ],
      "metadata": {
        "id": "VDKN1fW0OVzF"
      },
      "execution_count": null,
      "outputs": []
    },
    {
      "cell_type": "markdown",
      "source": [
        "Find the min count of coins"
      ],
      "metadata": {
        "id": "n2sjDYtbOZnE"
      }
    },
    {
      "cell_type": "code",
      "source": [
        "minSum  = 99999\n",
        "minList = 0\n",
        "for r in ResultList:\n",
        "  if sum(r) < minSum:\n",
        "    minSum = sum(r)\n",
        "    minList = r\n",
        "\n",
        "print(\"Min num of coins are:\" , sum(minList), minList )"
      ],
      "metadata": {
        "id": "9eSMuItjOb_7"
      },
      "execution_count": null,
      "outputs": []
    },
    {
      "cell_type": "markdown",
      "source": [
        "Complete code"
      ],
      "metadata": {
        "id": "41KYfaZFOeA2"
      }
    },
    {
      "cell_type": "code",
      "source": [
        "# 1. Library inclusion\n",
        "import random as r\n",
        "\n",
        "\n",
        "# 2. Parameter Setting\n",
        "CoinList    = [1, 5, 10, 20]  # Coin List\n",
        "Target      = 1125     # Target\n",
        "C           = 5        # Constraint\n",
        "ResultList  = set()    # Store Result List\n",
        "Iterations  = 50000    # Number of Inerations\n",
        "\n",
        "\n",
        "\n",
        "# 3. Loop till number of Iterations\n",
        "f=0\n",
        "for i in range(Iterations):\n",
        "\n",
        "    # Select count of coins\n",
        "    CoinCount = [ 5 * r.randint(0,15) for j in range(len(CoinList))]\n",
        "\n",
        "    # Select number of elements from Set\n",
        "    CoinCost = [ a * b for a,b in zip(CoinCount, CoinList)]\n",
        "\n",
        "    # Sum the products in ColboList\n",
        "    CoinSum = sum(CoinCost)\n",
        "    \n",
        "    if sum(CoinCost) == Target:\n",
        "      ResultList.add(tuple(CoinCount))\n",
        "      f=1\n",
        "\n",
        "if f==0:\n",
        "  print(\"No Sequence found !!\")\n",
        "\n",
        "\n",
        "\n",
        "# 4. Find min count of coins\n",
        "minSum  = 99999\n",
        "minList = 0\n",
        "for r in ResultList:\n",
        "  if sum(r) < minSum:\n",
        "    minSum = sum(r)\n",
        "    minList = r\n",
        "\n",
        "print(\"Min num of coins are:\" , sum(minList), minList )"
      ],
      "metadata": {
        "id": "6k5ahp7-Og2X"
      },
      "execution_count": null,
      "outputs": []
    }
  ]
}