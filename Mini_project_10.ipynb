{
  "nbformat": 4,
  "nbformat_minor": 0,
  "metadata": {
    "colab": {
      "name": "Mini project 10",
      "provenance": [],
      "authorship_tag": "ABX9TyPxZdRBzdLCf4cH0h/E/Ytt",
      "include_colab_link": true
    },
    "kernelspec": {
      "name": "python3",
      "display_name": "Python 3"
    },
    "language_info": {
      "name": "python"
    }
  },
  "cells": [
    {
      "cell_type": "markdown",
      "metadata": {
        "id": "view-in-github",
        "colab_type": "text"
      },
      "source": [
        "<a href=\"https://colab.research.google.com/github/n1a9n2/Projects/blob/main/Mini_project_10.ipynb\" target=\"_parent\"><img src=\"https://colab.research.google.com/assets/colab-badge.svg\" alt=\"Open In Colab\"/></a>"
      ]
    },
    {
      "cell_type": "markdown",
      "source": [
        "Youtube audio downloader"
      ],
      "metadata": {
        "id": "X-bm6ntenO6V"
      }
    },
    {
      "cell_type": "code",
      "source": [
        "!pip install youtube_search\n",
        "!pip install pytube"
      ],
      "metadata": {
        "id": "AN3qq6kEnVRj"
      },
      "execution_count": null,
      "outputs": []
    },
    {
      "cell_type": "code",
      "source": [
        "from youtube_search import YoutubeSearch\n",
        "from pytube import YouTube\n",
        "from flask import send_file\n",
        "import zipfile\n",
        "import os\n",
        "\n",
        "\n",
        "def searchtube(artist, songNumber):\n",
        "    results = YoutubeSearch(artist, max_results=songNumber).to_dict()\n",
        "    s = 'www.youtube.com'\n",
        "    urls = []\n",
        "    for value in results:\n",
        "        urls.append(s+value['url_suffix'])\n",
        "\n",
        "    for url in urls:\n",
        "        audio = YouTube(url)\n",
        "        audio.streams.filter(only_audio=True).first().download(\n",
        "            output_path='./audio/')\n",
        "\n",
        "    handle = zipfile.ZipFile('audios.zip', 'w')"
      ],
      "metadata": {
        "id": "zZfgxQzFnYh4"
      },
      "execution_count": null,
      "outputs": []
    },
    {
      "cell_type": "code",
      "source": [
        "searchtube('BTS',3)"
      ],
      "metadata": {
        "id": "_HpaclCQnaqF"
      },
      "execution_count": null,
      "outputs": []
    }
  ]
}