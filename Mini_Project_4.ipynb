{
  "nbformat": 4,
  "nbformat_minor": 0,
  "metadata": {
    "colab": {
      "name": "Mini Project 4",
      "provenance": [],
      "authorship_tag": "ABX9TyPFnw6oYyWy0ggomdIUq4Z2",
      "include_colab_link": true
    },
    "kernelspec": {
      "name": "python3",
      "display_name": "Python 3"
    },
    "language_info": {
      "name": "python"
    }
  },
  "cells": [
    {
      "cell_type": "markdown",
      "metadata": {
        "id": "view-in-github",
        "colab_type": "text"
      },
      "source": [
        "<a href=\"https://colab.research.google.com/github/n1a9n2/Projects/blob/main/Mini_Project_4.ipynb\" target=\"_parent\"><img src=\"https://colab.research.google.com/assets/colab-badge.svg\" alt=\"Open In Colab\"/></a>"
      ]
    },
    {
      "cell_type": "markdown",
      "source": [
        "# **Image to text**"
      ],
      "metadata": {
        "id": "X2hgLtVaGENn"
      }
    },
    {
      "cell_type": "markdown",
      "source": [
        "**Install package**"
      ],
      "metadata": {
        "id": "35ph84S5GIev"
      }
    },
    {
      "cell_type": "code",
      "source": [
        "!sudo apt install tesseract-ocr\n",
        "!pip install pytesseract\n",
        "!pip install Pillow==8.0.0"
      ],
      "metadata": {
        "id": "Xf3ZVr8rGMLM"
      },
      "execution_count": null,
      "outputs": []
    },
    {
      "cell_type": "markdown",
      "source": [
        "**Function for image to text**"
      ],
      "metadata": {
        "id": "8-LezenjGREs"
      }
    },
    {
      "cell_type": "code",
      "source": [
        "from google.colab import files\n",
        "\n",
        "uploaded = files.upload()"
      ],
      "metadata": {
        "id": "Hw1LEr-RGUat"
      },
      "execution_count": null,
      "outputs": []
    },
    {
      "cell_type": "code",
      "source": [
        "import pytesseract\n",
        "from PIL import Image"
      ],
      "metadata": {
        "id": "0xetFF3WGcag"
      },
      "execution_count": null,
      "outputs": []
    },
    {
      "cell_type": "code",
      "source": [
        "extractedInformation = pytesseract.image_to_string(Image.open('/content/test2.png'))"
      ],
      "metadata": {
        "id": "K8ARebmiGdFM"
      },
      "execution_count": null,
      "outputs": []
    },
    {
      "cell_type": "code",
      "source": [
        "print(extractedInformation)"
      ],
      "metadata": {
        "id": "82Lehkg1GfUa"
      },
      "execution_count": null,
      "outputs": []
    }
  ]
}