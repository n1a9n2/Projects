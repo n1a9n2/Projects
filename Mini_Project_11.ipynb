{
  "nbformat": 4,
  "nbformat_minor": 0,
  "metadata": {
    "colab": {
      "name": "Mini Project 11",
      "provenance": [],
      "authorship_tag": "ABX9TyNRZsvIKUDZmE73P4VL/Vol",
      "include_colab_link": true
    },
    "kernelspec": {
      "name": "python3",
      "display_name": "Python 3"
    },
    "language_info": {
      "name": "python"
    }
  },
  "cells": [
    {
      "cell_type": "markdown",
      "metadata": {
        "id": "view-in-github",
        "colab_type": "text"
      },
      "source": [
        "<a href=\"https://colab.research.google.com/github/n1a9n2/Projects/blob/main/Mini_Project_11.ipynb\" target=\"_parent\"><img src=\"https://colab.research.google.com/assets/colab-badge.svg\" alt=\"Open In Colab\"/></a>"
      ]
    },
    {
      "cell_type": "markdown",
      "source": [
        "**Guess the Number Game**"
      ],
      "metadata": {
        "id": "c9do0oyws8V4"
      }
    },
    {
      "cell_type": "code",
      "source": [
        "import random\n",
        "\n",
        "\n",
        "score = 100\n",
        "randomnumber = random.randint(1,3)\n",
        "print('This a game of guessing\\n')\n",
        "print('You have to choose a random number\\n')\n",
        "print('If you guess correct,you win')\n",
        "\n",
        "while True:\n",
        "    UserNumberInput = int(input('Guess:'))\n",
        "\n",
        "    if UserNumberInput == randomnumber:\n",
        "        print ('you won')\n",
        "        break\n",
        "    else:\n",
        "        print('better luck next time')\n",
        "        score -=1\n",
        "        print('your score is' + str(score))"
      ],
      "metadata": {
        "colab": {
          "base_uri": "https://localhost:8080/"
        },
        "id": "li4Hu2d_tCfS",
        "outputId": "c9d0395f-ab74-4c41-d791-985b8ae60daa"
      },
      "execution_count": null,
      "outputs": [
        {
          "output_type": "stream",
          "name": "stdout",
          "text": [
            "This a game of guessing\n",
            "\n",
            "You have to choose a random number\n",
            "\n",
            "If you guess correct,you win\n"
          ]
        }
      ]
    }
  ]
}