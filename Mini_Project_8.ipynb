{
  "nbformat": 4,
  "nbformat_minor": 0,
  "metadata": {
    "colab": {
      "name": "Mini Project 8",
      "provenance": [],
      "authorship_tag": "ABX9TyNjp9SO3119NKIRNIDi47PW",
      "include_colab_link": true
    },
    "kernelspec": {
      "name": "python3",
      "display_name": "Python 3"
    },
    "language_info": {
      "name": "python"
    }
  },
  "cells": [
    {
      "cell_type": "markdown",
      "metadata": {
        "id": "view-in-github",
        "colab_type": "text"
      },
      "source": [
        "<a href=\"https://colab.research.google.com/github/n1a9n2/Projects/blob/main/Mini_Project_8.ipynb\" target=\"_parent\"><img src=\"https://colab.research.google.com/assets/colab-badge.svg\" alt=\"Open In Colab\"/></a>"
      ]
    },
    {
      "cell_type": "markdown",
      "source": [
        "**OPERATOR FITTING PROBLEM**"
      ],
      "metadata": {
        "id": "i1zpswB-hSYw"
      }
    },
    {
      "cell_type": "markdown",
      "source": [
        "Problem Statement:\n",
        "\n",
        "Fill in the blanks with operator\n",
        "\n",
        "\"6 _ 5 _ 4 _ 3 _ 2 = 40\""
      ],
      "metadata": {
        "id": "3AhgAOAfjDhY"
      }
    },
    {
      "cell_type": "markdown",
      "source": [
        "1. Library inclusion"
      ],
      "metadata": {
        "id": "8e4m7JBwjT5a"
      }
    },
    {
      "cell_type": "code",
      "source": [
        "import random as r"
      ],
      "metadata": {
        "id": "MPVmt6HajWoF"
      },
      "execution_count": 2,
      "outputs": []
    },
    {
      "cell_type": "markdown",
      "source": [
        "2. Parameter setting"
      ],
      "metadata": {
        "id": "ulQmeFy5jbfA"
      }
    },
    {
      "cell_type": "code",
      "source": [
        "#Parameter Setting\n",
        "seq     = ['6','5','4','3','2']\n",
        "op      = ['+','-','*','/']\n",
        "Target  = 40\n",
        "Iterations  = 10000    # Number of Inerations"
      ],
      "metadata": {
        "id": "VXjGtUdojfyQ"
      },
      "execution_count": 6,
      "outputs": []
    },
    {
      "cell_type": "markdown",
      "source": [
        "3. Single Run"
      ],
      "metadata": {
        "id": "0zkYgCH6jj-x"
      }
    },
    {
      "cell_type": "code",
      "source": [
        "finalSeq = []\n",
        "finalSeq.append(seq[0])\n",
        "print(finalSeq)\n",
        "\n",
        "for i in seq[1:]:\n",
        "  finalSeq.append(''.join(r.sample(op,1)))\n",
        "  finalSeq.append(i)\n",
        "  print(finalSeq)\n",
        "\n",
        "exp=''.join(finalSeq)\n",
        "print(\"\\nExpression: \", exp)\n",
        "\n",
        "print(\"Expression Value: \", eval(exp))\n",
        "  "
      ],
      "metadata": {
        "colab": {
          "base_uri": "https://localhost:8080/"
        },
        "id": "sJpK5TbEjtss",
        "outputId": "649aa06a-d6ad-4df8-f198-77a30ae9ab82"
      },
      "execution_count": 7,
      "outputs": [
        {
          "output_type": "stream",
          "name": "stdout",
          "text": [
            "['6']\n",
            "['6', '/', '5']\n",
            "['6', '/', '5', '+', '4']\n",
            "['6', '/', '5', '+', '4', '-', '3']\n",
            "['6', '/', '5', '+', '4', '-', '3', '-', '2']\n",
            "\n",
            "Expression:  6/5+4-3-2\n",
            "Expression Value:  0.20000000000000018\n"
          ]
        }
      ]
    },
    {
      "cell_type": "markdown",
      "source": [
        "4. Start Program"
      ],
      "metadata": {
        "id": "G324rZXxjwFh"
      }
    },
    {
      "cell_type": "code",
      "source": [
        "# Loop till number of Iterations\n",
        "\n",
        "f=0\n",
        "for i in range(Iterations):\n",
        "\n",
        "  finalSeq = []\n",
        "  finalSeq.append(seq[0])\n",
        "  for i in seq[1:]:\n",
        "    finalSeq.append(''.join(r.sample(op,1)))\n",
        "    finalSeq.append(i)\n",
        "  \n",
        "  exp=''.join(finalSeq)\n",
        "  print (exp, \"  \", eval(exp))\n",
        "\n",
        "  if eval(exp) == Target:\n",
        "    f=1\n",
        "    break\n",
        "\n",
        "    \n",
        "if f==0:\n",
        "  print(\"No Sequence found !!\")"
      ],
      "metadata": {
        "colab": {
          "base_uri": "https://localhost:8080/"
        },
        "id": "tDHAaVdfjyro",
        "outputId": "c881dbae-3969-41fd-9978-87146ca10c05"
      },
      "execution_count": 5,
      "outputs": [
        {
          "output_type": "stream",
          "name": "stdout",
          "text": [
            "6+5+4*3+2    25\n",
            "6-5/4+3/2    6.25\n",
            "6+5*4/3-2    10.666666666666668\n",
            "6/5/4+3+2    5.3\n",
            "6*5+4+3-2    35\n",
            "6/5+4-3+2    4.2\n",
            "6-5/4+3/2    6.25\n",
            "6/5-4+3-2    -1.7999999999999998\n",
            "6+5-4-3*2    1\n",
            "6*5-4/3+2    30.666666666666668\n",
            "6/5+4-3-2    0.20000000000000018\n",
            "6+5/4/3+2    8.416666666666668\n",
            "6*5+4*3*2    54\n",
            "6*5-4+3+2    31\n",
            "6/5-4+3*2    3.2\n",
            "6-5-4/3-2    -2.333333333333333\n",
            "6+5*4-3-2    21\n",
            "6-5-4/3*2    -1.6666666666666665\n",
            "6-5-4+3/2    -1.5\n",
            "6+5/4-3+2    6.25\n",
            "6+5*4/3-2    10.666666666666668\n",
            "6-5-4+3/2    -1.5\n",
            "6-5*4*3/2    -24.0\n",
            "6+5/4-3-2    2.25\n",
            "6/5-4*3*2    -22.8\n",
            "6*5+4-3-2    29\n",
            "6/5*4-3/2    3.3\n",
            "6/5+4*3-2    11.2\n",
            "6-5*4*3*2    -114\n",
            "6+5*4/3*2    19.333333333333336\n",
            "6*5*4/3+2    42.0\n",
            "6-5/4+3/2    6.25\n",
            "6-5+4-3-2    0\n",
            "6+5/4-3*2    1.25\n",
            "6-5+4*3+2    15\n",
            "6+5+4-3/2    13.5\n",
            "6/5-4-3-2    -7.8\n",
            "6*5*4-3/2    118.5\n",
            "6*5-4-3/2    24.5\n",
            "6/5+4-3-2    0.20000000000000018\n",
            "6-5+4+3/2    6.5\n",
            "6+5-4-3/2    5.5\n",
            "6/5+4-3+2    4.2\n",
            "6-5/4/3-2    3.583333333333333\n",
            "6+5-4+3-2    8\n",
            "6/5/4*3-2    -1.1\n",
            "6+5*4-3/2    24.5\n",
            "6-5*4/3-2    -2.666666666666667\n",
            "6-5/4+3*2    10.75\n",
            "6+5/4/3+2    8.416666666666668\n",
            "6+5/4-3*2    1.25\n",
            "6-5+4/3*2    3.6666666666666665\n",
            "6*5/4/3*2    5.0\n",
            "6+5-4/3-2    7.666666666666666\n",
            "6-5*4+3*2    -8\n",
            "6+5+4+3-2    16\n",
            "6-5-4/3/2    0.33333333333333337\n",
            "6*5*4-3+2    119\n",
            "6-5+4+3*2    11\n",
            "6+5+4+3/2    16.5\n",
            "6*5/4+3/2    9.0\n",
            "6*5*4+3*2    126\n",
            "6+5/4+3+2    12.25\n",
            "6+5*4-3/2    24.5\n",
            "6+5-4+3*2    13\n",
            "6-5+4*3+2    15\n",
            "6/5*4/3*2    3.1999999999999997\n",
            "6*5-4/3*2    27.333333333333332\n",
            "6+5+4-3+2    14\n",
            "6/5/4*3/2    0.44999999999999996\n",
            "6*5+4/3/2    30.666666666666668\n",
            "6+5*4/3*2    19.333333333333336\n",
            "6+5-4*3+2    1\n",
            "6*5-4/3-2    26.666666666666668\n",
            "6*5/4/3-2    0.5\n",
            "6+5+4-3/2    13.5\n",
            "6-5-4/3/2    0.33333333333333337\n",
            "6+5/4*3+2    11.75\n",
            "6-5-4-3*2    -9\n",
            "6+5+4/3/2    11.666666666666666\n",
            "6-5-4+3+2    2\n",
            "6+5+4+3+2    20\n",
            "6*5*4/3+2    42.0\n",
            "6*5+4/3-2    29.333333333333332\n",
            "6-5*4-3+2    -15\n",
            "6-5-4-3*2    -9\n",
            "6-5-4/3-2    -2.333333333333333\n",
            "6-5+4-3*2    -1\n",
            "6/5*4-3/2    3.3\n",
            "6*5*4/3*2    80.0\n",
            "6/5*4-3/2    3.3\n",
            "6-5/4/3/2    5.791666666666667\n",
            "6+5*4+3*2    32\n",
            "6+5/4-3*2    1.25\n",
            "6-5+4+3-2    6\n",
            "6/5-4*3/2    -4.8\n",
            "6/5+4+3/2    6.7\n",
            "6-5/4*3-2    0.25\n",
            "6/5+4/3+2    4.533333333333333\n",
            "6+5+4*3/2    17.0\n",
            "6*5+4/3/2    30.666666666666668\n",
            "6-5/4-3+2    3.75\n",
            "6+5+4*3/2    17.0\n",
            "6-5+4/3+2    4.333333333333333\n",
            "6+5+4*3*2    35\n",
            "6-5/4/3+2    7.583333333333333\n",
            "6*5*4/3-2    38.0\n",
            "6/5*4*3/2    7.199999999999999\n",
            "6+5/4/3*2    6.833333333333333\n",
            "6-5+4+3/2    6.5\n",
            "6*5-4/3*2    27.333333333333332\n",
            "6/5/4-3-2    -4.7\n",
            "6+5*4*3+2    68\n",
            "6+5/4*3+2    11.75\n",
            "6/5+4+3-2    6.199999999999999\n",
            "6-5+4+3*2    11\n",
            "6/5-4*3/2    -4.8\n",
            "6-5+4/3+2    4.333333333333333\n",
            "6-5/4/3+2    7.583333333333333\n",
            "6+5*4*3/2    36.0\n",
            "6-5-4*3/2    -5.0\n",
            "6*5*4+3*2    126\n",
            "6*5-4-3*2    20\n",
            "6-5+4+3+2    10\n",
            "6/5/4/3/2    0.049999999999999996\n",
            "6-5*4/3*2    -7.333333333333334\n",
            "6*5-4-3+2    25\n",
            "6-5/4-3*2    -1.25\n",
            "6-5*4-3+2    -15\n",
            "6/5+4*3*2    25.2\n",
            "6*5/4+3-2    8.5\n",
            "6-5-4*3-2    -13\n",
            "6/5/4-3*2    -5.7\n",
            "6-5*4+3-2    -13\n",
            "6+5-4*3-2    -3\n",
            "6/5/4/3*2    0.19999999999999998\n",
            "6/5*4-3+2    3.8\n",
            "6*5-4/3*2    27.333333333333332\n",
            "6/5-4+3*2    3.2\n",
            "6/5+4-3*2    -0.7999999999999998\n",
            "6-5*4+3*2    -8\n",
            "6/5/4*3-2    -1.1\n",
            "6*5+4*3-2    40\n"
          ]
        }
      ]
    },
    {
      "cell_type": "markdown",
      "source": [
        ""
      ],
      "metadata": {
        "id": "u9r5WQcrj2I_"
      }
    }
  ]
}