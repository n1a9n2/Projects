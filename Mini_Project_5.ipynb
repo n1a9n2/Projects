{
  "nbformat": 4,
  "nbformat_minor": 0,
  "metadata": {
    "colab": {
      "name": "Mini Project 5",
      "provenance": [],
      "authorship_tag": "ABX9TyPwvI4W8sd+E3LNVydUTufB",
      "include_colab_link": true
    },
    "kernelspec": {
      "name": "python3",
      "display_name": "Python 3"
    },
    "language_info": {
      "name": "python"
    }
  },
  "cells": [
    {
      "cell_type": "markdown",
      "metadata": {
        "id": "view-in-github",
        "colab_type": "text"
      },
      "source": [
        "<a href=\"https://colab.research.google.com/github/n1a9n2/Projects/blob/main/Mini_Project_5.ipynb\" target=\"_parent\"><img src=\"https://colab.research.google.com/assets/colab-badge.svg\" alt=\"Open In Colab\"/></a>"
      ]
    },
    {
      "cell_type": "markdown",
      "source": [
        "# **Tweet search**"
      ],
      "metadata": {
        "id": "kUi9AUP_HM0m"
      }
    },
    {
      "cell_type": "markdown",
      "source": [
        "Install package"
      ],
      "metadata": {
        "id": "n5sr-CB9HRiJ"
      }
    },
    {
      "cell_type": "code",
      "source": [
        "!pip install tweepy"
      ],
      "metadata": {
        "id": "Zfpco5DRHSvu"
      },
      "execution_count": null,
      "outputs": []
    },
    {
      "cell_type": "markdown",
      "source": [
        "Add credentials"
      ],
      "metadata": {
        "id": "t83QkdqpHV5U"
      }
    },
    {
      "cell_type": "code",
      "source": [
        "access_token = \"501682241-ZG1DshytyxUIUY8FXPoH2AXaDG9d5DQlORemfAzU\"\n",
        "access_token_secret = \"mxwCYkDjgWG5qWy8ONtVs3j2lxiYSxyberVVa92jmd27z\"\n",
        "consumer_key = \"we0Drpnvc1FZNazKkiKoFWlGf\"\n",
        "consumer_secret = \"OXRvmJwM6ca9k90XMIMoktSCa5XvjNieqJivcfjbOAlmpO6RhH\""
      ],
      "metadata": {
        "id": "jdU7mwfYHXLT"
      },
      "execution_count": null,
      "outputs": []
    },
    {
      "cell_type": "code",
      "source": [
        "import os\n",
        "import tweepy as tw\n",
        "import pandas as pd"
      ],
      "metadata": {
        "id": "7QVrX_u6HZD8"
      },
      "execution_count": null,
      "outputs": []
    },
    {
      "cell_type": "code",
      "source": [
        "auth = tw.OAuthHandler(consumer_key, consumer_secret)\n",
        "auth.set_access_token(access_token, access_token_secret)\n",
        "api = tw.API(auth, wait_on_rate_limit=True)"
      ],
      "metadata": {
        "id": "JdLoErxmHbSW"
      },
      "execution_count": null,
      "outputs": []
    },
    {
      "cell_type": "markdown",
      "source": [
        "Look for tweets and build a dataframe"
      ],
      "metadata": {
        "id": "qPH9efF4HdSP"
      }
    },
    {
      "cell_type": "code",
      "source": [
        "# Collect tweets\n",
        "results = api.search(q='ipl', count=50)\n",
        "\n",
        "# We create a pandas dataframe as follows:\n",
        "data = pd.DataFrame(data=[tweet.text for tweet in results], columns=['Tweets'])\n",
        "\n",
        "# We display the first 15 elements of the dataframe:\n",
        "display(data.head(15)"
      ],
      "metadata": {
        "id": "5Gz8xK0hHg9W"
      },
      "execution_count": null,
      "outputs": []
    }
  ]
}