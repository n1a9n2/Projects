{
  "nbformat": 4,
  "nbformat_minor": 0,
  "metadata": {
    "colab": {
      "name": "Mini project 9",
      "provenance": [],
      "authorship_tag": "ABX9TyPZCBjMKUc9G1z0pF/TZ2et",
      "include_colab_link": true
    },
    "kernelspec": {
      "name": "python3",
      "display_name": "Python 3"
    },
    "language_info": {
      "name": "python"
    }
  },
  "cells": [
    {
      "cell_type": "markdown",
      "metadata": {
        "id": "view-in-github",
        "colab_type": "text"
      },
      "source": [
        "<a href=\"https://colab.research.google.com/github/n1a9n2/Projects/blob/main/Mini_project_9.ipynb\" target=\"_parent\"><img src=\"https://colab.research.google.com/assets/colab-badge.svg\" alt=\"Open In Colab\"/></a>"
      ]
    },
    {
      "cell_type": "markdown",
      "source": [
        "**SUBSET SELECTION PROBLEM**"
      ],
      "metadata": {
        "id": "3J8M2tghkr4a"
      }
    },
    {
      "cell_type": "markdown",
      "source": [
        "1. Problem Statement:\n",
        "\n",
        "Find all the subsets from a set of numbers whose sum is zero.\n",
        "Constraint: Subset size must be 5\n",
        "\n",
        "Set={-12, -3, -6, 7, 2, -2, 6, 3, 9, -7, -5, -8, 1, 11, -9, -4}"
      ],
      "metadata": {
        "id": "udVs1muoku3g"
      }
    },
    {
      "cell_type": "markdown",
      "source": [
        "1.1 Library inclusion"
      ],
      "metadata": {
        "id": "totmqjlykz90"
      }
    },
    {
      "cell_type": "code",
      "source": [
        "import random as r"
      ],
      "metadata": {
        "id": "bF5plWoVk5Ng"
      },
      "execution_count": null,
      "outputs": []
    },
    {
      "cell_type": "markdown",
      "source": [
        "1.2 Parameter setting"
      ],
      "metadata": {
        "id": "wbqIQtMHk7mV"
      }
    },
    {
      "cell_type": "code",
      "source": [
        "Set         = set([-12, -3, -6, 7, 2, -2, 6, 3, 9, -7, -5, -8, 1, 11, -9, -4])\n",
        "SetSize     = 5\n",
        "ResultList  = set()    # Store Result List i.e. list of sets whose sum is zero\n",
        "Iterations  = 1000    # Number of Inerations"
      ],
      "metadata": {
        "id": "eJ-ssz1tk93r"
      },
      "execution_count": null,
      "outputs": []
    },
    {
      "cell_type": "markdown",
      "source": [
        "1.3 Start program"
      ],
      "metadata": {
        "id": "dZyxEPhok_8P"
      }
    },
    {
      "cell_type": "code",
      "source": [
        "# Loop till number of Iterations\n",
        "for i in range(Iterations):\n",
        "    # Select number of elements from Set\n",
        "    Chromosome = r.sample(Set,SetSize)\n",
        "    \n",
        "    # Sum the number of elements in the Chromosome\n",
        "    if sum(Chromosome) == 0:\n",
        "        ResultList.add(tuple(Chromosome))"
      ],
      "metadata": {
        "id": "zWguT4TolC3N"
      },
      "execution_count": null,
      "outputs": []
    },
    {
      "cell_type": "markdown",
      "source": [
        "1.4 Print the sets and total count"
      ],
      "metadata": {
        "id": "YACCmwnZlE4J"
      }
    },
    {
      "cell_type": "code",
      "source": [
        "# Print all the sets whose sum is zero\n",
        "for r in ResultList:\n",
        "\tprint (r)\n",
        "\n",
        "# Print total sets\n",
        "print (\"\\nTotal Sets: \", len(ResultList), \"\\n\")"
      ],
      "metadata": {
        "id": "Od385JkRlMMG"
      },
      "execution_count": null,
      "outputs": []
    },
    {
      "cell_type": "markdown",
      "source": [
        "1.5 Complete program"
      ],
      "metadata": {
        "id": "HhZfi1anlOE-"
      }
    },
    {
      "cell_type": "code",
      "source": [
        "#-------------------------------------------------------------\n",
        "# Step 1: Library inclusion                             \n",
        "#-------------------------------------------------------------\n",
        "import random as r\n",
        "\n",
        "\n",
        "#-------------------------------------------------------------\n",
        "# Step 2: Parameter Setting\n",
        "#-------------------------------------------------------------\n",
        "Set         = set([-12, -3, -6, 7, 2, -2, 6, 3, 9, -7, -5, -8, 1, 11, -9, -4])\n",
        "SetSize     = 5\n",
        "ResultList  = set()    # Store Result List i.e. list of sets whose sum is zero\n",
        "Iterations  = 1000   # Number of Inerations\n",
        "\n",
        "\n",
        "#-------------------------------------------------------------\n",
        "# Step3: Start Program\n",
        "#-------------------------------------------------------------\n",
        "\n",
        "# Loop till number of Iterations\n",
        "for i in range(Iterations):\n",
        "    # Select number of elements from Set\n",
        "    Chromosome = r.sample(Set,SetSize)\n",
        "\n",
        "    # Sum the number of elements in the Chromosome\n",
        "    if sum(Chromosome) == 0:\n",
        "        ResultList.add(tuple(Chromosome))\n",
        "\n",
        "# Print all the sets whose sum is zero\n",
        "for r in ResultList:\n",
        "\tprint (r)\n",
        "\n",
        "# Print total sets\n",
        "print (\"\\nTotal Sets: \", len(ResultList))\n"
      ],
      "metadata": {
        "id": "Cqirmw8ClRw4"
      },
      "execution_count": null,
      "outputs": []
    },
    {
      "cell_type": "markdown",
      "source": [
        "1.6 Complete program with sorting"
      ],
      "metadata": {
        "id": "DpUA9pRulWhR"
      }
    },
    {
      "cell_type": "code",
      "source": [
        "#-------------------------------------------------------------\n",
        "# Step 1: Library inclusion                             \n",
        "#-------------------------------------------------------------\n",
        "import random as r\n",
        "\n",
        "\n",
        "#-------------------------------------------------------------\n",
        "# Step 2: Parameter Setting\n",
        "#-------------------------------------------------------------\n",
        "Set         = set([-12, -3, -6, 7, 2, -2, 6, 3, 9, -7, -5, -8, 1, 11, -9, -4])\n",
        "SetSize     = 5\n",
        "ResultList  = set()    # Store Result List i.e. list of sets whose sum is zero\n",
        "Iterations  = 1000   # Number of Inerations\n",
        "\n",
        "\n",
        "#-------------------------------------------------------------\n",
        "# Step3: Start Program\n",
        "#-------------------------------------------------------------\n",
        "\n",
        "# Loop till number of Iterations\n",
        "for i in range(Iterations):\n",
        "    # Select number of elements from Set\n",
        "    Chromosome = r.sample(Set,SetSize)\n",
        "    Chromosome.sort()\n",
        "\n",
        "    # Sum the number of elements in the Chromosome\n",
        "    if sum(Chromosome) == 0:\n",
        "        ResultList.add(tuple(Chromosome))\n",
        "\n",
        "# Print all the sets whose sum is zero\n",
        "for r in ResultList:\n",
        "\tprint (r)\n",
        "\n",
        "# Print total sets\n",
        "print (\"\\nTotal Sets: \", len(ResultList))\n"
      ],
      "metadata": {
        "id": "MRHhTILRlZx4"
      },
      "execution_count": null,
      "outputs": []
    }
  ]
}