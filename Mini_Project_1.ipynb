{
  "nbformat": 4,
  "nbformat_minor": 0,
  "metadata": {
    "colab": {
      "name": "Mini Project 1",
      "provenance": [],
      "authorship_tag": "ABX9TyMU/e97F2AyWGI6kz9XZGgh",
      "include_colab_link": true
    },
    "kernelspec": {
      "name": "python3",
      "display_name": "Python 3"
    },
    "language_info": {
      "name": "python"
    }
  },
  "cells": [
    {
      "cell_type": "markdown",
      "metadata": {
        "id": "view-in-github",
        "colab_type": "text"
      },
      "source": [
        "<a href=\"https://colab.research.google.com/github/n1a9n2/Projects/blob/main/Mini_Project_1.ipynb\" target=\"_parent\"><img src=\"https://colab.research.google.com/assets/colab-badge.svg\" alt=\"Open In Colab\"/></a>"
      ]
    },
    {
      "cell_type": "markdown",
      "source": [
        "# **ComboFinder**\n",
        "\n",
        "---\n",
        "\n"
      ],
      "metadata": {
        "id": "_X-zdn3h31HI"
      }
    },
    {
      "cell_type": "markdown",
      "source": [
        "## **Problem Statement:**\n",
        "Find all the list of products whose sum-of-ptice is between 200 and 300.\n",
        "\n",
        "ProductList = {p1:10,p2:20,p3:35,p4:45,p5=50,p6:60,p7:70}\n"
      ],
      "metadata": {
        "id": "6AdC3Ahy4ACm"
      }
    },
    {
      "cell_type": "markdown",
      "source": [
        "1.1 Library inclusion"
      ],
      "metadata": {
        "id": "BmwsGjlb4Ibx"
      }
    },
    {
      "cell_type": "code",
      "source": [
        "import random as r"
      ],
      "metadata": {
        "id": "5AZIlDNo4Msv"
      },
      "execution_count": null,
      "outputs": []
    },
    {
      "cell_type": "markdown",
      "source": [
        "1.2 Parameter setting\n",
        "\n",
        "Read the productId-price file and convert to dictionary"
      ],
      "metadata": {
        "id": "9gYyeVFx4P59"
      }
    },
    {
      "cell_type": "code",
      "source": [
        "ProductList = {'p1':10, 'p2':15, 'p3':20, 'p4':25, 'p5':30, 'p6':35, 'p7':50,\n",
        "               'p8':40, 'p9':55, 'p10':60, 'p11':65, 'p12':75, 'p13':70,\n",
        "               'p14':45}\n",
        "LB = 200\n",
        "UB = 300\n",
        "ResultList = set() #Store Result List i.e. List of sets whose sum is between 100 and 200.\n",
        "Iterations = 1000  #Number of Iterations"
      ],
      "metadata": {
        "id": "G9e1YCnZ4UmM"
      },
      "execution_count": null,
      "outputs": []
    },
    {
      "cell_type": "markdown",
      "source": [
        "Single Run"
      ],
      "metadata": {
        "id": "fC5yrPd04nmE"
      }
    },
    {
      "cell_type": "code",
      "source": [
        "# Select combo size (i.e. number of products in a combo)\n",
        "SetSize = r.randint(2, len(ProductList)-1)\n",
        "print(\"Number of Product: \", SetSize)\n",
        "\n",
        "\n",
        "# Select number of elements from Set\n",
        "ComboList = r.sample(list(ProductList.keys()),SetSize)\n",
        "print(\"Product List     : \", ComboList)\n",
        "\n",
        "\n",
        "# Sum the products in ColboList\n",
        "ComboSum = sum([ ProductList[i] for i in ComboList])\n",
        "print(\"Sum of Product   : \", ComboSum)"
      ],
      "metadata": {
        "id": "oy4EWEVQ4vBS",
        "colab": {
          "base_uri": "https://localhost:8080/"
        },
        "outputId": "d87fb008-822c-4242-8b1a-e7a271885eff"
      },
      "execution_count": null,
      "outputs": [
        {
          "output_type": "stream",
          "name": "stdout",
          "text": [
            "Number of Product:  13\n",
            "Product List     :  ['p7', 'p3', 'p12', 'p2', 'p6', 'p10', 'p9', 'p4', 'p11', 'p13', 'p5', 'p14', 'p8']\n",
            "Sum of Product   :  585\n"
          ]
        }
      ]
    },
    {
      "cell_type": "markdown",
      "source": [
        "1.3 Start program"
      ],
      "metadata": {
        "id": "vi_msCiW4y0f"
      }
    },
    {
      "cell_type": "code",
      "source": [
        "# Loop till number of Iterations\n",
        "ResultList  = set()\n",
        "\n",
        "for i in range(Iterations):\n",
        "\n",
        "    # Select combo size (i.e. number of products in a combo)\n",
        "    SetSize = r.randint(2, len(ProductList)-1)\n",
        "\n",
        "    # Select number of elements from Set\n",
        "    ComboList = r.sample(list(ProductList.keys()),SetSize)\n",
        "\n",
        "    # Sum the products in ColboList\n",
        "    ComboSum = sum([ ProductList[i] for i in ComboList])\n",
        "    \n",
        "    # Check the Sum Between LB and UB\n",
        "    if ComboSum>= LB and ComboSum<= UB:\n",
        "      ResultList.add(tuple(ComboList))\n",
        "\n",
        "print(\"Done\")"
      ],
      "metadata": {
        "id": "MmfMCUcB44Vs",
        "colab": {
          "base_uri": "https://localhost:8080/"
        },
        "outputId": "b2523038-1651-4c93-df72-cd4439aad2e9"
      },
      "execution_count": null,
      "outputs": [
        {
          "output_type": "stream",
          "name": "stdout",
          "text": [
            "Done\n"
          ]
        }
      ]
    },
    {
      "cell_type": "markdown",
      "source": [
        "1.4 Print the comboLists and total count"
      ],
      "metadata": {
        "id": "AZTVkyfB48FP"
      }
    },
    {
      "cell_type": "code",
      "source": [
        "# Print all the sets whose sum is between LB and UB\n",
        "for r in ResultList:\n",
        "\tprint (r)\n",
        "\n",
        "# Print total sets\n",
        "print (\"\\nTotal Sets: \", len(ResultList), \"\\n\")"
      ],
      "metadata": {
        "id": "VPjqgTyT4_14",
        "colab": {
          "base_uri": "https://localhost:8080/"
        },
        "outputId": "245def89-498f-46be-c8ad-60a3c2a225ac"
      },
      "execution_count": null,
      "outputs": [
        {
          "output_type": "stream",
          "name": "stdout",
          "text": [
            "('p11', 'p3', 'p10', 'p6', 'p2', 'p9', 'p14')\n",
            "('p7', 'p5', 'p4', 'p9', 'p8', 'p12', 'p3')\n",
            "('p6', 'p12', 'p7', 'p11', 'p5')\n",
            "('p3', 'p7', 'p8', 'p2', 'p6', 'p1', 'p13', 'p5')\n",
            "('p6', 'p8', 'p12', 'p5', 'p7')\n",
            "('p12', 'p9', 'p1', 'p14', 'p10')\n",
            "('p10', 'p11', 'p5', 'p9', 'p13')\n",
            "('p2', 'p5', 'p13', 'p9', 'p4', 'p7')\n",
            "('p6', 'p1', 'p7', 'p11', 'p2', 'p12', 'p14')\n",
            "('p5', 'p3', 'p2', 'p1', 'p10', 'p12', 'p11')\n",
            "('p4', 'p13', 'p7', 'p9', 'p3')\n",
            "('p2', 'p10', 'p13', 'p5', 'p6', 'p4', 'p3')\n",
            "('p2', 'p5', 'p1', 'p8', 'p10', 'p11', 'p7')\n",
            "('p14', 'p13', 'p6', 'p9')\n",
            "('p5', 'p13', 'p10', 'p3', 'p1', 'p9')\n",
            "('p2', 'p13', 'p7', 'p14', 'p3', 'p9', 'p1')\n",
            "('p5', 'p14', 'p8', 'p7', 'p6')\n",
            "('p11', 'p9', 'p1', 'p8', 'p10')\n",
            "('p10', 'p14', 'p2', 'p9', 'p6')\n",
            "('p5', 'p7', 'p12', 'p10')\n",
            "('p11', 'p8', 'p7', 'p9')\n",
            "('p10', 'p13', 'p8', 'p5')\n",
            "('p3', 'p5', 'p2', 'p12', 'p13')\n",
            "('p4', 'p11', 'p9', 'p3', 'p10', 'p5')\n",
            "('p4', 'p6', 'p12', 'p9', 'p3')\n",
            "('p12', 'p5', 'p6', 'p2', 'p14')\n",
            "('p10', 'p7', 'p14', 'p6', 'p12')\n",
            "('p2', 'p4', 'p1', 'p13', 'p10', 'p8')\n",
            "('p7', 'p3', 'p2', 'p11', 'p4', 'p13')\n",
            "('p14', 'p5', 'p6', 'p8', 'p11')\n",
            "('p11', 'p2', 'p3', 'p6', 'p9', 'p4', 'p13')\n",
            "('p14', 'p4', 'p2', 'p13', 'p12')\n",
            "('p5', 'p2', 'p13', 'p3', 'p6', 'p9')\n",
            "('p7', 'p4', 'p3', 'p11', 'p8')\n",
            "('p9', 'p14', 'p1', 'p7', 'p4', 'p6')\n",
            "('p13', 'p11', 'p3', 'p5', 'p10', 'p2', 'p4')\n",
            "('p11', 'p14', 'p7', 'p2', 'p12', 'p4')\n",
            "('p3', 'p11', 'p7', 'p12', 'p14')\n",
            "('p11', 'p14', 'p2', 'p7', 'p8', 'p1')\n",
            "('p10', 'p12', 'p4', 'p14', 'p5', 'p11')\n",
            "('p2', 'p9', 'p3', 'p13', 'p10', 'p5', 'p8')\n",
            "('p14', 'p1', 'p3', 'p8', 'p4', 'p6', 'p7', 'p12')\n",
            "('p13', 'p10', 'p1', 'p6', 'p4', 'p9')\n",
            "('p2', 'p7', 'p3', 'p11', 'p4', 'p10')\n",
            "('p3', 'p5', 'p9', 'p10', 'p8', 'p6', 'p2')\n",
            "('p10', 'p3', 'p13', 'p2', 'p12', 'p7')\n",
            "('p9', 'p4', 'p11', 'p10')\n",
            "('p12', 'p13', 'p9', 'p5', 'p8')\n",
            "('p4', 'p6', 'p11', 'p10', 'p3')\n",
            "('p2', 'p7', 'p9', 'p13', 'p1')\n",
            "('p1', 'p14', 'p4', 'p9', 'p8', 'p10')\n",
            "('p12', 'p2', 'p14', 'p11', 'p5')\n",
            "('p7', 'p13', 'p8', 'p11', 'p10', 'p2')\n",
            "('p5', 'p6', 'p7', 'p10', 'p14')\n",
            "('p10', 'p1', 'p11', 'p8', 'p14')\n",
            "('p5', 'p2', 'p6', 'p9', 'p14', 'p1', 'p13')\n",
            "('p12', 'p9', 'p4', 'p5', 'p2', 'p14', 'p8')\n",
            "('p13', 'p3', 'p4', 'p14', 'p6', 'p2')\n",
            "('p10', 'p4', 'p3', 'p8', 'p11', 'p14', 'p2')\n",
            "('p13', 'p9', 'p12')\n",
            "('p3', 'p5', 'p1', 'p2', 'p13', 'p12', 'p4', 'p7')\n",
            "('p4', 'p2', 'p6', 'p7', 'p13', 'p10')\n",
            "('p9', 'p7', 'p6', 'p3', 'p14', 'p2', 'p13')\n",
            "('p1', 'p7', 'p10', 'p4', 'p6', 'p2', 'p13')\n",
            "('p14', 'p8', 'p5', 'p13', 'p7', 'p2', 'p1')\n",
            "('p7', 'p3', 'p11', 'p1', 'p12')\n",
            "('p7', 'p6', 'p8', 'p13', 'p3', 'p1', 'p11')\n",
            "('p11', 'p5', 'p6', 'p14', 'p1', 'p2')\n",
            "('p14', 'p3', 'p9', 'p1', 'p4', 'p6', 'p8')\n",
            "('p8', 'p9', 'p13', 'p1', 'p7')\n",
            "('p12', 'p8', 'p9', 'p4', 'p10', 'p5')\n",
            "('p8', 'p6', 'p2', 'p4', 'p5', 'p11')\n",
            "('p12', 'p14', 'p11', 'p13', 'p8')\n",
            "('p3', 'p4', 'p11', 'p12', 'p2', 'p5', 'p1', 'p7')\n",
            "('p9', 'p14', 'p2', 'p8', 'p3', 'p1', 'p12', 'p4')\n",
            "('p8', 'p3', 'p14', 'p5', 'p13')\n",
            "('p7', 'p6', 'p13', 'p10', 'p2', 'p9')\n",
            "('p11', 'p2', 'p3', 'p6', 'p1', 'p10', 'p8')\n",
            "('p6', 'p11', 'p2', 'p13', 'p3')\n",
            "('p9', 'p8', 'p14', 'p10', 'p2', 'p6')\n",
            "('p14', 'p11', 'p10', 'p7', 'p4', 'p3')\n",
            "('p4', 'p3', 'p9', 'p14', 'p7', 'p2', 'p6')\n",
            "('p10', 'p14', 'p4', 'p12')\n",
            "('p13', 'p1', 'p6', 'p3', 'p2', 'p4', 'p7')\n",
            "('p4', 'p1', 'p13', 'p5', 'p9', 'p11', 'p8')\n",
            "('p11', 'p9', 'p8', 'p7', 'p6')\n",
            "('p5', 'p1', 'p3', 'p10', 'p6', 'p14', 'p11')\n",
            "('p11', 'p10', 'p12', 'p14', 'p6')\n",
            "('p6', 'p4', 'p5', 'p9', 'p10', 'p8')\n",
            "('p8', 'p2', 'p7', 'p12', 'p9', 'p6')\n",
            "('p13', 'p2', 'p5', 'p7', 'p6')\n",
            "('p12', 'p3', 'p7', 'p1', 'p11', 'p2')\n",
            "('p11', 'p3', 'p8', 'p2', 'p12', 'p9', 'p5')\n",
            "('p11', 'p12', 'p4', 'p8', 'p14')\n",
            "('p9', 'p13', 'p3', 'p10')\n",
            "('p7', 'p12', 'p14', 'p13')\n",
            "('p3', 'p14', 'p13', 'p9', 'p1')\n",
            "('p10', 'p8', 'p13', 'p5', 'p1')\n",
            "('p2', 'p9', 'p1', 'p6', 'p5', 'p12')\n",
            "('p12', 'p3', 'p14', 'p11', 'p7')\n",
            "('p1', 'p4', 'p13', 'p10', 'p5', 'p12', 'p3')\n",
            "('p13', 'p10', 'p14', 'p12', 'p6')\n",
            "('p2', 'p10', 'p7', 'p12', 'p9', 'p5')\n",
            "('p4', 'p6', 'p12', 'p8', 'p14', 'p9')\n",
            "('p8', 'p5', 'p6', 'p3', 'p14', 'p9', 'p7')\n",
            "('p8', 'p3', 'p4', 'p6', 'p9', 'p10')\n",
            "('p10', 'p1', 'p4', 'p5', 'p11', 'p14')\n",
            "('p7', 'p5', 'p9', 'p14', 'p8', 'p10')\n",
            "('p2', 'p10', 'p9', 'p1', 'p14', 'p8', 'p11')\n",
            "('p13', 'p14', 'p1', 'p7', 'p10', 'p11')\n",
            "('p6', 'p11', 'p5', 'p13', 'p2', 'p4', 'p3')\n",
            "('p11', 'p5', 'p3', 'p14', 'p6', 'p1')\n",
            "('p11', 'p3', 'p6', 'p9', 'p4', 'p2')\n",
            "('p13', 'p2', 'p10', 'p6', 'p7', 'p8')\n",
            "('p7', 'p13', 'p1', 'p4', 'p6', 'p5')\n",
            "('p12', 'p6', 'p11', 'p10', 'p9')\n",
            "('p9', 'p7', 'p12', 'p6', 'p11')\n",
            "('p5', 'p2', 'p8', 'p10', 'p4', 'p1', 'p11')\n",
            "('p13', 'p10', 'p14', 'p12', 'p7')\n",
            "('p9', 'p14', 'p3', 'p10', 'p6')\n",
            "('p12', 'p4', 'p9', 'p10', 'p7')\n",
            "('p9', 'p3', 'p6', 'p1', 'p2', 'p11')\n",
            "('p12', 'p3', 'p13', 'p5', 'p8', 'p6')\n",
            "('p3', 'p14', 'p5', 'p6', 'p13', 'p2', 'p10')\n",
            "('p3', 'p11', 'p5', 'p2', 'p6', 'p9', 'p7')\n",
            "('p2', 'p7', 'p8', 'p1', 'p9', 'p10', 'p5')\n",
            "('p11', 'p5', 'p8', 'p2', 'p7', 'p3')\n",
            "('p8', 'p7', 'p11', 'p4', 'p5', 'p2', 'p6')\n",
            "('p4', 'p7', 'p1', 'p10', 'p13')\n",
            "('p8', 'p13', 'p9', 'p12', 'p7')\n",
            "('p8', 'p9', 'p14', 'p11', 'p2')\n",
            "('p1', 'p5', 'p13', 'p7', 'p10', 'p2', 'p8')\n",
            "('p9', 'p13', 'p2', 'p10')\n",
            "('p9', 'p13', 'p5', 'p4', 'p6', 'p11')\n",
            "('p9', 'p3', 'p14', 'p5', 'p1', 'p10', 'p11')\n",
            "('p12', 'p10', 'p9', 'p13')\n",
            "('p3', 'p12', 'p8', 'p14', 'p4', 'p10')\n",
            "('p5', 'p9', 'p4', 'p6', 'p2', 'p3', 'p10')\n",
            "('p11', 'p4', 'p9', 'p10', 'p14')\n",
            "('p12', 'p4', 'p1', 'p2', 'p7', 'p14', 'p3', 'p8')\n",
            "('p8', 'p4', 'p2', 'p13', 'p9')\n",
            "('p13', 'p12', 'p7', 'p14', 'p5', 'p2')\n",
            "('p13', 'p5', 'p7', 'p4', 'p9')\n",
            "('p8', 'p7', 'p1', 'p6', 'p3', 'p4', 'p10', 'p9')\n",
            "('p4', 'p8', 'p13', 'p11')\n",
            "('p6', 'p11', 'p1', 'p4', 'p2', 'p14', 'p12')\n",
            "('p6', 'p13', 'p2', 'p5', 'p12', 'p1')\n",
            "('p3', 'p7', 'p10', 'p1', 'p12', 'p4', 'p8', 'p2')\n",
            "('p6', 'p8', 'p10', 'p14', 'p11', 'p5', 'p1')\n",
            "('p5', 'p9', 'p14', 'p1', 'p6', 'p13')\n",
            "('p13', 'p6', 'p12', 'p14', 'p7', 'p1')\n",
            "('p9', 'p2', 'p13', 'p6', 'p11')\n",
            "('p7', 'p9', 'p10', 'p1', 'p5', 'p14')\n",
            "('p8', 'p14', 'p4', 'p7', 'p1', 'p3', 'p9')\n",
            "('p12', 'p4', 'p13', 'p3', 'p11')\n",
            "('p7', 'p9', 'p6', 'p4', 'p8', 'p2', 'p3')\n",
            "('p11', 'p3', 'p6', 'p5', 'p14', 'p7', 'p8')\n",
            "('p8', 'p2', 'p4', 'p13', 'p12')\n",
            "('p3', 'p10', 'p1', 'p8', 'p6', 'p12')\n",
            "('p5', 'p9', 'p8', 'p3', 'p1', 'p11')\n",
            "('p12', 'p1', 'p6', 'p3', 'p4', 'p11', 'p2', 'p8')\n",
            "('p11', 'p9', 'p13', 'p1')\n",
            "('p11', 'p10', 'p3', 'p9', 'p6', 'p2', 'p1')\n",
            "('p11', 'p4', 'p12', 'p14', 'p3')\n",
            "('p7', 'p2', 'p10', 'p5', 'p9')\n",
            "('p11', 'p12', 'p3', 'p4', 'p1', 'p5')\n",
            "('p11', 'p13', 'p7', 'p14', 'p1')\n",
            "('p8', 'p6', 'p14', 'p7', 'p4', 'p2')\n",
            "('p2', 'p9', 'p8', 'p12', 'p3', 'p4', 'p6')\n",
            "('p1', 'p14', 'p7', 'p12', 'p11')\n",
            "('p11', 'p13', 'p12', 'p6', 'p9')\n",
            "('p14', 'p4', 'p7', 'p9', 'p12', 'p2')\n",
            "('p12', 'p13', 'p8', 'p10', 'p9')\n",
            "('p14', 'p12', 'p13', 'p2', 'p5')\n",
            "('p1', 'p14', 'p6', 'p11', 'p3', 'p12', 'p4')\n",
            "('p10', 'p5', 'p11', 'p4', 'p7', 'p3', 'p2')\n",
            "('p6', 'p5', 'p2', 'p7', 'p4', 'p8', 'p14', 'p1')\n",
            "('p13', 'p1', 'p7', 'p8', 'p12')\n",
            "('p11', 'p4', 'p6', 'p2', 'p3', 'p13', 'p1')\n",
            "('p6', 'p9', 'p10', 'p8', 'p2', 'p4')\n",
            "('p9', 'p5', 'p1', 'p3', 'p11', 'p2', 'p7', 'p8')\n",
            "('p4', 'p6', 'p3', 'p8', 'p14', 'p11')\n",
            "('p12', 'p8', 'p10', 'p4', 'p13')\n",
            "('p4', 'p3', 'p1', 'p6', 'p7', 'p2', 'p12')\n",
            "('p6', 'p2', 'p4', 'p13', 'p11', 'p8', 'p3')\n",
            "('p2', 'p3', 'p7', 'p9', 'p13', 'p8')\n",
            "('p8', 'p14', 'p2', 'p13', 'p3', 'p11')\n",
            "('p4', 'p11', 'p1', 'p14', 'p3', 'p5', 'p10')\n",
            "('p2', 'p9', 'p10', 'p4', 'p6', 'p8', 'p7')\n",
            "('p1', 'p12', 'p5', 'p4', 'p8', 'p13')\n",
            "('p1', 'p11', 'p8', 'p5', 'p9', 'p12', 'p2')\n",
            "('p8', 'p12', 'p3', 'p14', 'p11')\n",
            "('p7', 'p9', 'p11', 'p4', 'p2', 'p6', 'p8')\n",
            "('p3', 'p13', 'p14', 'p2', 'p7')\n",
            "('p7', 'p3', 'p12', 'p2', 'p9', 'p6', 'p8')\n",
            "('p2', 'p9', 'p11', 'p3', 'p7')\n",
            "('p4', 'p3', 'p1', 'p13', 'p12', 'p6')\n",
            "('p7', 'p12', 'p10', 'p4', 'p8')\n",
            "('p3', 'p13', 'p12', 'p9', 'p6')\n",
            "('p6', 'p3', 'p8', 'p13', 'p12')\n",
            "('p13', 'p8', 'p5', 'p11')\n",
            "('p7', 'p5', 'p4', 'p10', 'p12')\n",
            "('p6', 'p4', 'p10', 'p7', 'p5', 'p2')\n",
            "('p1', 'p7', 'p10', 'p13', 'p5', 'p14')\n",
            "('p9', 'p10', 'p7', 'p1', 'p4')\n",
            "('p7', 'p8', 'p9', 'p11')\n",
            "('p2', 'p13', 'p12', 'p7', 'p9')\n",
            "('p9', 'p4', 'p1', 'p13', 'p11')\n",
            "('p4', 'p1', 'p8', 'p7', 'p6', 'p9', 'p10', 'p2')\n",
            "('p9', 'p1', 'p11', 'p8', 'p7', 'p4')\n",
            "('p10', 'p2', 'p1', 'p7', 'p9', 'p5')\n",
            "('p2', 'p8', 'p6', 'p12', 'p13')\n",
            "('p11', 'p9', 'p7', 'p2', 'p12')\n",
            "('p11', 'p4', 'p6', 'p10', 'p9')\n",
            "('p14', 'p6', 'p10', 'p9', 'p1', 'p4')\n",
            "('p4', 'p5', 'p8', 'p9', 'p10', 'p11')\n",
            "('p10', 'p4', 'p3', 'p11', 'p9', 'p5', 'p6')\n",
            "\n",
            "Total Sets:  217 \n",
            "\n"
          ]
        }
      ]
    },
    {
      "cell_type": "markdown",
      "source": [
        "1.5 Complete Program with sorting"
      ],
      "metadata": {
        "id": "Zzn1Ika15ZnH"
      }
    },
    {
      "cell_type": "code",
      "source": [
        "#-------------------------------------------------------------\n",
        "# Step 1: Library inclusion                             \n",
        "#-------------------------------------------------------------\n",
        "import random as r\n",
        "\n",
        "\n",
        "#-------------------------------------------------------------\n",
        "# Step 2: Parameter Setting\n",
        "#-------------------------------------------------------------\n",
        "ProductList = {'p1':10, 'p2':15, 'p3':20, 'p4':25, 'p5':30, 'p6':35, 'p7':50,\n",
        "               'p8':40, 'p9':55, 'p10':60, 'p11':65, 'p12':75, 'p13':70,\n",
        "               'p14':45}\n",
        "LB          = 290\n",
        "UB          = 310\n",
        "ResultList  = set()   # Store Result List i.e. list of sets whose sum is between 90 and 210.\n",
        "Iterations  = 1000    # Number of Inerations\n",
        "\n",
        "\n",
        "#-------------------------------------------------------------\n",
        "# Step3: Start Program\n",
        "#-------------------------------------------------------------\n",
        "for i in range(Iterations):\n",
        "\n",
        "    # Select combo size (i.e. number of products in a combo)\n",
        "    SetSize = r.randint(2, len(ProductList)-1)\n",
        "\n",
        "    # Select number of elements from Set\n",
        "    ComboList = r.sample(list(ProductList.keys()),SetSize)\n",
        "    ComboList.sort()\n",
        "\n",
        "    # Sum the products in ColboList\n",
        "    ComboSum = sum([ ProductList[i] for i in ComboList])\n",
        "\n",
        "    # Check the Sum Between LB and UB\n",
        "    if ComboSum>= LB and ComboSum<= UB:\n",
        "      ResultList.add(tuple(ComboList))\n",
        "\n",
        "\n",
        "# Print all the sets whose sum is between LB and UB\n",
        "for r in ResultList:\n",
        "\tprint (r)\n",
        "\n",
        "# Print total sets\n",
        "print (\"\\nTotal Sets: \", len(ResultList), \"\\n\")\n"
      ],
      "metadata": {
        "colab": {
          "base_uri": "https://localhost:8080/"
        },
        "id": "RyyTM2NG5ex2",
        "outputId": "dbfa8df2-c3d3-4139-d3f5-eca89288ca80"
      },
      "execution_count": null,
      "outputs": [
        {
          "output_type": "stream",
          "name": "stdout",
          "text": [
            "('p11', 'p12', 'p2', 'p4', 'p5', 'p8', 'p9')\n",
            "('p10', 'p11', 'p13', 'p14', 'p9')\n",
            "('p10', 'p11', 'p12', 'p14', 'p2', 'p5')\n",
            "('p11', 'p13', 'p3', 'p4', 'p5', 'p6', 'p7')\n",
            "('p10', 'p11', 'p13', 'p14', 'p2', 'p7')\n",
            "('p10', 'p11', 'p14', 'p2', 'p3', 'p4', 'p5', 'p8')\n",
            "('p1', 'p12', 'p13', 'p14', 'p3', 'p6', 'p8')\n",
            "('p1', 'p11', 'p12', 'p14', 'p2', 'p3', 'p5', 'p8')\n",
            "('p1', 'p11', 'p13', 'p2', 'p3', 'p4', 'p5', 'p9')\n",
            "('p11', 'p12', 'p13', 'p14', 'p8')\n",
            "('p1', 'p12', 'p13', 'p4', 'p6', 'p8', 'p9')\n",
            "('p1', 'p12', 'p13', 'p14', 'p2', 'p3', 'p5', 'p6')\n",
            "('p1', 'p10', 'p13', 'p14', 'p3', 'p4', 'p5', 'p7')\n",
            "('p1', 'p10', 'p11', 'p13', 'p2', 'p6', 'p8')\n",
            "('p1', 'p11', 'p12', 'p14', 'p3', 'p5', 'p7')\n",
            "('p1', 'p11', 'p13', 'p14', 'p2', 'p4', 'p6', 'p8')\n",
            "('p10', 'p12', 'p4', 'p5', 'p7', 'p9')\n",
            "('p11', 'p12', 'p14', 'p3', 'p8', 'p9')\n",
            "('p1', 'p11', 'p12', 'p13', 'p3', 'p5', 'p8')\n",
            "('p10', 'p12', 'p14', 'p2', 'p8', 'p9')\n",
            "('p11', 'p13', 'p5', 'p6', 'p8', 'p9')\n",
            "('p1', 'p10', 'p13', 'p2', 'p3', 'p4', 'p5', 'p6', 'p8')\n",
            "('p1', 'p10', 'p12', 'p13', 'p2', 'p5', 'p8')\n",
            "('p11', 'p12', 'p13', 'p8', 'p9')\n",
            "('p11', 'p12', 'p14', 'p3', 'p4', 'p5', 'p6')\n",
            "('p11', 'p12', 'p4', 'p6', 'p8', 'p9')\n",
            "('p10', 'p12', 'p13', 'p2', 'p3', 'p5', 'p6')\n",
            "('p1', 'p10', 'p13', 'p2', 'p4', 'p5', 'p6', 'p7')\n",
            "('p1', 'p10', 'p12', 'p14', 'p4', 'p6', 'p9')\n",
            "('p1', 'p12', 'p3', 'p4', 'p5', 'p6', 'p8', 'p9')\n",
            "('p1', 'p11', 'p12', 'p14', 'p4', 'p5', 'p8')\n",
            "('p1', 'p13', 'p14', 'p2', 'p3', 'p5', 'p7', 'p9')\n",
            "('p1', 'p11', 'p12', 'p13', 'p14', 'p3', 'p4')\n",
            "('p1', 'p10', 'p12', 'p14', 'p2', 'p7', 'p8')\n",
            "('p1', 'p13', 'p14', 'p2', 'p4', 'p6', 'p7', 'p8')\n",
            "('p1', 'p12', 'p13', 'p14', 'p4', 'p5', 'p7')\n",
            "('p1', 'p13', 'p3', 'p4', 'p5', 'p6', 'p7', 'p9')\n",
            "('p1', 'p10', 'p13', 'p14', 'p3', 'p6', 'p9')\n",
            "('p1', 'p10', 'p12', 'p14', 'p2', 'p4', 'p6', 'p8')\n",
            "('p10', 'p13', 'p14', 'p2', 'p4', 'p5', 'p9')\n",
            "('p1', 'p13', 'p14', 'p5', 'p6', 'p7', 'p9')\n",
            "('p1', 'p10', 'p14', 'p2', 'p3', 'p4', 'p5', 'p8', 'p9')\n",
            "('p1', 'p11', 'p12', 'p13', 'p14', 'p2', 'p3')\n",
            "('p1', 'p11', 'p12', 'p14', 'p3', 'p6', 'p7')\n",
            "('p10', 'p11', 'p13', 'p2', 'p5', 'p9')\n",
            "('p10', 'p11', 'p12', 'p2', 'p8', 'p9')\n",
            "('p1', 'p10', 'p12', 'p14', 'p3', 'p4', 'p9')\n",
            "('p11', 'p12', 'p13', 'p2', 'p3', 'p7')\n",
            "\n",
            "Total Sets:  48 \n",
            "\n"
          ]
        }
      ]
    }
  ]
}